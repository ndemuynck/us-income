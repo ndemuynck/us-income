{
 "cells": [
  {
   "cell_type": "markdown",
   "metadata": {},
   "source": [
    "### Import libraries"
   ]
  },
  {
   "cell_type": "code",
   "execution_count": 3,
   "metadata": {},
   "outputs": [],
   "source": [
    "import numpy as np\n",
    "import pandas as pd\n",
    "import matplotlib.pyplot as plt\n",
    "%matplotlib inline\n",
    "import seaborn as sns\n",
    "from sklearn.model_selection import train_test_split\n",
    "from sklearn.ensemble import RandomForestClassifier\n",
    "from pprint import pprint\n",
    "from sklearn.model_selection import RandomizedSearchCV\n",
    "from sklearn.model_selection import GridSearchCV\n",
    "from sklearn.model_selection import KFold\n",
    "from sklearn.model_selection import cross_val_score\n",
    "from sklearn.metrics import confusion_matrix\n",
    "from sklearn.metrics import matthews_corrcoef\n",
    "from sklearn.metrics import classification_report\n",
    "from sklearn.metrics import roc_curve\n",
    "from sklearn.metrics import roc_auc_score\n",
    "from sklearn.metrics import precision_recall_curve\n",
    "from sklearn.metrics import auc\n",
    "from sklearn.model_selection import validation_curve\n",
    "from sklearn.model_selection import learning_curve"
   ]
  },
  {
   "cell_type": "markdown",
   "metadata": {},
   "source": [
    "### Load, explore data + split into training and testing variables"
   ]
  },
  {
   "cell_type": "code",
   "execution_count": 4,
   "metadata": {},
   "outputs": [],
   "source": [
    "train_df = pd.read_csv('/Users/nicolasdemuynck/BeCode/GNT-ARAI-1.25/additional_resources/datasets/US Income/cleaned/data_train.csv')\n",
    "test_df = pd.read_csv('/Users/nicolasdemuynck/BeCode/GNT-ARAI-1.25/additional_resources/datasets/US Income/cleaned/data_test.csv')"
   ]
  },
  {
   "cell_type": "code",
   "execution_count": 5,
   "metadata": {},
   "outputs": [
    {
     "data": {
      "text/html": [
       "<div>\n",
       "<style scoped>\n",
       "    .dataframe tbody tr th:only-of-type {\n",
       "        vertical-align: middle;\n",
       "    }\n",
       "\n",
       "    .dataframe tbody tr th {\n",
       "        vertical-align: top;\n",
       "    }\n",
       "\n",
       "    .dataframe thead th {\n",
       "        text-align: right;\n",
       "    }\n",
       "</style>\n",
       "<table border=\"1\" class=\"dataframe\">\n",
       "  <thead>\n",
       "    <tr style=\"text-align: right;\">\n",
       "      <th></th>\n",
       "      <th>age</th>\n",
       "      <th>workclass</th>\n",
       "      <th>fnlwgt</th>\n",
       "      <th>education</th>\n",
       "      <th>education-num</th>\n",
       "      <th>marital-status</th>\n",
       "      <th>occupation</th>\n",
       "      <th>relationship</th>\n",
       "      <th>race</th>\n",
       "      <th>sex</th>\n",
       "      <th>capital-gain</th>\n",
       "      <th>capital-loss</th>\n",
       "      <th>hours-per-week</th>\n",
       "      <th>native-country</th>\n",
       "      <th>income</th>\n",
       "    </tr>\n",
       "  </thead>\n",
       "  <tbody>\n",
       "    <tr>\n",
       "      <th>0</th>\n",
       "      <td>39</td>\n",
       "      <td>0</td>\n",
       "      <td>77516</td>\n",
       "      <td>0</td>\n",
       "      <td>13</td>\n",
       "      <td>0</td>\n",
       "      <td>0</td>\n",
       "      <td>0</td>\n",
       "      <td>0</td>\n",
       "      <td>0</td>\n",
       "      <td>2174</td>\n",
       "      <td>0</td>\n",
       "      <td>40</td>\n",
       "      <td>0</td>\n",
       "      <td>0</td>\n",
       "    </tr>\n",
       "    <tr>\n",
       "      <th>1</th>\n",
       "      <td>50</td>\n",
       "      <td>1</td>\n",
       "      <td>83311</td>\n",
       "      <td>0</td>\n",
       "      <td>13</td>\n",
       "      <td>1</td>\n",
       "      <td>1</td>\n",
       "      <td>1</td>\n",
       "      <td>0</td>\n",
       "      <td>0</td>\n",
       "      <td>0</td>\n",
       "      <td>0</td>\n",
       "      <td>13</td>\n",
       "      <td>0</td>\n",
       "      <td>0</td>\n",
       "    </tr>\n",
       "    <tr>\n",
       "      <th>2</th>\n",
       "      <td>38</td>\n",
       "      <td>2</td>\n",
       "      <td>215646</td>\n",
       "      <td>1</td>\n",
       "      <td>9</td>\n",
       "      <td>2</td>\n",
       "      <td>2</td>\n",
       "      <td>0</td>\n",
       "      <td>0</td>\n",
       "      <td>0</td>\n",
       "      <td>0</td>\n",
       "      <td>0</td>\n",
       "      <td>40</td>\n",
       "      <td>0</td>\n",
       "      <td>0</td>\n",
       "    </tr>\n",
       "    <tr>\n",
       "      <th>3</th>\n",
       "      <td>53</td>\n",
       "      <td>2</td>\n",
       "      <td>234721</td>\n",
       "      <td>2</td>\n",
       "      <td>7</td>\n",
       "      <td>1</td>\n",
       "      <td>2</td>\n",
       "      <td>1</td>\n",
       "      <td>1</td>\n",
       "      <td>0</td>\n",
       "      <td>0</td>\n",
       "      <td>0</td>\n",
       "      <td>40</td>\n",
       "      <td>0</td>\n",
       "      <td>0</td>\n",
       "    </tr>\n",
       "    <tr>\n",
       "      <th>4</th>\n",
       "      <td>28</td>\n",
       "      <td>2</td>\n",
       "      <td>338409</td>\n",
       "      <td>0</td>\n",
       "      <td>13</td>\n",
       "      <td>1</td>\n",
       "      <td>3</td>\n",
       "      <td>2</td>\n",
       "      <td>1</td>\n",
       "      <td>1</td>\n",
       "      <td>0</td>\n",
       "      <td>0</td>\n",
       "      <td>40</td>\n",
       "      <td>1</td>\n",
       "      <td>0</td>\n",
       "    </tr>\n",
       "  </tbody>\n",
       "</table>\n",
       "</div>"
      ],
      "text/plain": [
       "   age  workclass  fnlwgt  education  education-num  marital-status  \\\n",
       "0   39          0   77516          0             13               0   \n",
       "1   50          1   83311          0             13               1   \n",
       "2   38          2  215646          1              9               2   \n",
       "3   53          2  234721          2              7               1   \n",
       "4   28          2  338409          0             13               1   \n",
       "\n",
       "   occupation  relationship  race  sex  capital-gain  capital-loss  \\\n",
       "0           0             0     0    0          2174             0   \n",
       "1           1             1     0    0             0             0   \n",
       "2           2             0     0    0             0             0   \n",
       "3           2             1     1    0             0             0   \n",
       "4           3             2     1    1             0             0   \n",
       "\n",
       "   hours-per-week  native-country  income  \n",
       "0              40               0       0  \n",
       "1              13               0       0  \n",
       "2              40               0       0  \n",
       "3              40               0       0  \n",
       "4              40               1       0  "
      ]
     },
     "execution_count": 5,
     "metadata": {},
     "output_type": "execute_result"
    }
   ],
   "source": [
    "train_df.head(5)"
   ]
  },
  {
   "cell_type": "code",
   "execution_count": 6,
   "metadata": {},
   "outputs": [
    {
     "data": {
      "text/html": [
       "<div>\n",
       "<style scoped>\n",
       "    .dataframe tbody tr th:only-of-type {\n",
       "        vertical-align: middle;\n",
       "    }\n",
       "\n",
       "    .dataframe tbody tr th {\n",
       "        vertical-align: top;\n",
       "    }\n",
       "\n",
       "    .dataframe thead th {\n",
       "        text-align: right;\n",
       "    }\n",
       "</style>\n",
       "<table border=\"1\" class=\"dataframe\">\n",
       "  <thead>\n",
       "    <tr style=\"text-align: right;\">\n",
       "      <th></th>\n",
       "      <th>age</th>\n",
       "      <th>workclass</th>\n",
       "      <th>fnlwgt</th>\n",
       "      <th>education</th>\n",
       "      <th>education-num</th>\n",
       "      <th>marital-status</th>\n",
       "      <th>occupation</th>\n",
       "      <th>relationship</th>\n",
       "      <th>race</th>\n",
       "      <th>sex</th>\n",
       "      <th>capital-gain</th>\n",
       "      <th>capital-loss</th>\n",
       "      <th>hours-per-week</th>\n",
       "      <th>native-country</th>\n",
       "      <th>income</th>\n",
       "    </tr>\n",
       "  </thead>\n",
       "  <tbody>\n",
       "    <tr>\n",
       "      <th>0</th>\n",
       "      <td>25</td>\n",
       "      <td>2</td>\n",
       "      <td>226802</td>\n",
       "      <td>2</td>\n",
       "      <td>7</td>\n",
       "      <td>0</td>\n",
       "      <td>9</td>\n",
       "      <td>3</td>\n",
       "      <td>1</td>\n",
       "      <td>0</td>\n",
       "      <td>0</td>\n",
       "      <td>0</td>\n",
       "      <td>40</td>\n",
       "      <td>0</td>\n",
       "      <td>0</td>\n",
       "    </tr>\n",
       "    <tr>\n",
       "      <th>1</th>\n",
       "      <td>38</td>\n",
       "      <td>2</td>\n",
       "      <td>89814</td>\n",
       "      <td>1</td>\n",
       "      <td>9</td>\n",
       "      <td>1</td>\n",
       "      <td>8</td>\n",
       "      <td>1</td>\n",
       "      <td>0</td>\n",
       "      <td>0</td>\n",
       "      <td>0</td>\n",
       "      <td>0</td>\n",
       "      <td>50</td>\n",
       "      <td>0</td>\n",
       "      <td>0</td>\n",
       "    </tr>\n",
       "    <tr>\n",
       "      <th>2</th>\n",
       "      <td>28</td>\n",
       "      <td>4</td>\n",
       "      <td>336951</td>\n",
       "      <td>6</td>\n",
       "      <td>12</td>\n",
       "      <td>1</td>\n",
       "      <td>12</td>\n",
       "      <td>1</td>\n",
       "      <td>0</td>\n",
       "      <td>0</td>\n",
       "      <td>0</td>\n",
       "      <td>0</td>\n",
       "      <td>40</td>\n",
       "      <td>0</td>\n",
       "      <td>1</td>\n",
       "    </tr>\n",
       "    <tr>\n",
       "      <th>3</th>\n",
       "      <td>44</td>\n",
       "      <td>2</td>\n",
       "      <td>160323</td>\n",
       "      <td>5</td>\n",
       "      <td>10</td>\n",
       "      <td>1</td>\n",
       "      <td>9</td>\n",
       "      <td>1</td>\n",
       "      <td>1</td>\n",
       "      <td>0</td>\n",
       "      <td>7688</td>\n",
       "      <td>0</td>\n",
       "      <td>40</td>\n",
       "      <td>0</td>\n",
       "      <td>1</td>\n",
       "    </tr>\n",
       "    <tr>\n",
       "      <th>4</th>\n",
       "      <td>18</td>\n",
       "      <td>5</td>\n",
       "      <td>103497</td>\n",
       "      <td>5</td>\n",
       "      <td>10</td>\n",
       "      <td>0</td>\n",
       "      <td>11</td>\n",
       "      <td>3</td>\n",
       "      <td>0</td>\n",
       "      <td>1</td>\n",
       "      <td>0</td>\n",
       "      <td>0</td>\n",
       "      <td>30</td>\n",
       "      <td>0</td>\n",
       "      <td>0</td>\n",
       "    </tr>\n",
       "  </tbody>\n",
       "</table>\n",
       "</div>"
      ],
      "text/plain": [
       "   age  workclass  fnlwgt  education  education-num  marital-status  \\\n",
       "0   25          2  226802          2              7               0   \n",
       "1   38          2   89814          1              9               1   \n",
       "2   28          4  336951          6             12               1   \n",
       "3   44          2  160323          5             10               1   \n",
       "4   18          5  103497          5             10               0   \n",
       "\n",
       "   occupation  relationship  race  sex  capital-gain  capital-loss  \\\n",
       "0           9             3     1    0             0             0   \n",
       "1           8             1     0    0             0             0   \n",
       "2          12             1     0    0             0             0   \n",
       "3           9             1     1    0          7688             0   \n",
       "4          11             3     0    1             0             0   \n",
       "\n",
       "   hours-per-week  native-country  income  \n",
       "0              40               0       0  \n",
       "1              50               0       0  \n",
       "2              40               0       1  \n",
       "3              40               0       1  \n",
       "4              30               0       0  "
      ]
     },
     "execution_count": 6,
     "metadata": {},
     "output_type": "execute_result"
    }
   ],
   "source": [
    "test_df.head(5)"
   ]
  },
  {
   "cell_type": "code",
   "execution_count": 7,
   "metadata": {},
   "outputs": [
    {
     "name": "stdout",
     "output_type": "stream",
     "text": [
      "(32561, 15)\n",
      "(16281, 15)\n"
     ]
    }
   ],
   "source": [
    "print(train_df.shape)\n",
    "print(test_df.shape)"
   ]
  },
  {
   "cell_type": "code",
   "execution_count": 8,
   "metadata": {},
   "outputs": [
    {
     "name": "stdout",
     "output_type": "stream",
     "text": [
      "(32561, 14) (16281, 14) (32561,) (16281,)\n"
     ]
    }
   ],
   "source": [
    "X_train=train_df.drop('income',axis=1) # Declare X and y variable + split into train/test\n",
    "X_test=test_df.drop('income', axis=1)\n",
    "y_train=train_df.income\n",
    "y_test=test_df.income\n",
    "print (X_train.shape, X_test.shape, y_train.shape, y_test.shape)"
   ]
  },
  {
   "cell_type": "markdown",
   "metadata": {},
   "source": [
    "### Base model"
   ]
  },
  {
   "cell_type": "code",
   "execution_count": 22,
   "metadata": {},
   "outputs": [
    {
     "name": "stdout",
     "output_type": "stream",
     "text": [
      "Evaluating the base model on the training set yields an accuracy of 98.78996345321089%\n",
      "Evaluating the base model on the testing set yields an accuracy of 84.76%\n",
      "Parameters currently in use:\n",
      "{'bootstrap': True,\n",
      " 'ccp_alpha': 0.0,\n",
      " 'class_weight': None,\n",
      " 'criterion': 'gini',\n",
      " 'max_depth': None,\n",
      " 'max_features': 'auto',\n",
      " 'max_leaf_nodes': None,\n",
      " 'max_samples': None,\n",
      " 'min_impurity_decrease': 0.0,\n",
      " 'min_impurity_split': None,\n",
      " 'min_samples_leaf': 1,\n",
      " 'min_samples_split': 2,\n",
      " 'min_weight_fraction_leaf': 0.0,\n",
      " 'n_estimators': 10,\n",
      " 'n_jobs': None,\n",
      " 'oob_score': False,\n",
      " 'random_state': 42,\n",
      " 'verbose': 0,\n",
      " 'warm_start': False}\n"
     ]
    }
   ],
   "source": [
    "base_model = RandomForestClassifier(n_estimators=10,random_state=42) #classifier with default params\n",
    "base_model.fit(X_train, y_train)\n",
    "base_accuracy = base_model.score(X_train, y_train)\n",
    "print(\"Evaluating the base model on the training set yields an accuracy of {}%\".format(base_accuracy*100))\n",
    "base_accuracy = base_model.score(X_test, y_test)\n",
    "print(\"Evaluating the base model on the testing set yields an accuracy of {:.2f}%\".format(base_accuracy*100))\n",
    "print('Parameters currently in use:')\n",
    "pprint(base_model.get_params()) #check which params are in use"
   ]
  },
  {
   "cell_type": "code",
   "execution_count": 23,
   "metadata": {},
   "outputs": [
    {
     "name": "stdout",
     "output_type": "stream",
     "text": [
      "[0 0 1 ... 1 0 1]\n"
     ]
    }
   ],
   "source": [
    "# Make prediction\n",
    "y_pred_base = base_model.predict(X_test)\n",
    "print(y_pred_base)"
   ]
  },
  {
   "cell_type": "code",
   "execution_count": 24,
   "metadata": {},
   "outputs": [
    {
     "name": "stdout",
     "output_type": "stream",
     "text": [
      "MSE: -0.15 (+/- 0.01)\n"
     ]
    }
   ],
   "source": [
    "kf = KFold(n_splits=10)\n",
    "cv_scores_base = cross_val_score(base_model, X_train, y_train, cv=kf, scoring='neg_mean_squared_error')\n",
    "print(\"MSE: %0.2f (+/- %0.2f)\" % (cv_scores_base.mean(), cv_scores_base.std()))\n",
    "# the actual MSE is the number we get hear but positive"
   ]
  },
  {
   "cell_type": "raw",
   "metadata": {},
   "source": [
    "The unified scoring API always maximizes the score, so scores which need to be minimized are negated in order for the unified scoring API to work correctly"
   ]
  },
  {
   "cell_type": "code",
   "execution_count": 25,
   "metadata": {},
   "outputs": [
    {
     "data": {
      "text/html": [
       "<div>\n",
       "<style scoped>\n",
       "    .dataframe tbody tr th:only-of-type {\n",
       "        vertical-align: middle;\n",
       "    }\n",
       "\n",
       "    .dataframe tbody tr th {\n",
       "        vertical-align: top;\n",
       "    }\n",
       "\n",
       "    .dataframe thead th {\n",
       "        text-align: right;\n",
       "    }\n",
       "</style>\n",
       "<table border=\"1\" class=\"dataframe\">\n",
       "  <thead>\n",
       "    <tr style=\"text-align: right;\">\n",
       "      <th>Predicted</th>\n",
       "      <th>0</th>\n",
       "      <th>1</th>\n",
       "      <th>All</th>\n",
       "    </tr>\n",
       "    <tr>\n",
       "      <th>Actual</th>\n",
       "      <th></th>\n",
       "      <th></th>\n",
       "      <th></th>\n",
       "    </tr>\n",
       "  </thead>\n",
       "  <tbody>\n",
       "    <tr>\n",
       "      <th>0</th>\n",
       "      <td>11603</td>\n",
       "      <td>832</td>\n",
       "      <td>12435</td>\n",
       "    </tr>\n",
       "    <tr>\n",
       "      <th>1</th>\n",
       "      <td>1650</td>\n",
       "      <td>2196</td>\n",
       "      <td>3846</td>\n",
       "    </tr>\n",
       "    <tr>\n",
       "      <th>All</th>\n",
       "      <td>13253</td>\n",
       "      <td>3028</td>\n",
       "      <td>16281</td>\n",
       "    </tr>\n",
       "  </tbody>\n",
       "</table>\n",
       "</div>"
      ],
      "text/plain": [
       "Predicted      0     1    All\n",
       "Actual                       \n",
       "0          11603   832  12435\n",
       "1           1650  2196   3846\n",
       "All        13253  3028  16281"
      ]
     },
     "execution_count": 25,
     "metadata": {},
     "output_type": "execute_result"
    }
   ],
   "source": [
    "confusion_matrix(y_test,y_pred_base)\n",
    "pd.crosstab(y_test, y_pred_base, rownames = ['Actual'], colnames =['Predicted'], margins = True)\n",
    "# <=50K = 0\n",
    "# >50K = 1\n",
    "# TP = 11603 , FP = 1650 , TN = 2196, FN = 832"
   ]
  },
  {
   "cell_type": "code",
   "execution_count": 26,
   "metadata": {},
   "outputs": [
    {
     "name": "stdout",
     "output_type": "stream",
     "text": [
      "0.5502848908971707\n"
     ]
    }
   ],
   "source": [
    "matthews_corr_base = matthews_corrcoef(y_test,y_pred_base)\n",
    "print(matthews_corr_base)\n",
    "#ranges from 1 (good model with perfect agreement between y_test and y_pred)\n",
    "# and -1 (poor model with complete disagreement)\n",
    "# a score 0 is expected to be no better then random"
   ]
  },
  {
   "cell_type": "code",
   "execution_count": 27,
   "metadata": {},
   "outputs": [
    {
     "name": "stdout",
     "output_type": "stream",
     "text": [
      "              precision    recall  f1-score   support\n",
      "\n",
      "           0       0.88      0.93      0.90     12435\n",
      "           1       0.73      0.57      0.64      3846\n",
      "\n",
      "    accuracy                           0.85     16281\n",
      "   macro avg       0.80      0.75      0.77     16281\n",
      "weighted avg       0.84      0.85      0.84     16281\n",
      "\n"
     ]
    }
   ],
   "source": [
    "print(classification_report(y_test, y_pred_base))\n",
    "# class 0 has a higher recall then class 1: returns most of the relevant results (weather or not irrelevant ones are returned)\n",
    "# class 1 has a higher precision then class 0: returns more relevant results then irrelevant\n",
    "# support is 12,5 K occurences of class 0 and 3,8K for class 1 => imbalanced dataset"
   ]
  },
  {
   "cell_type": "markdown",
   "metadata": {},
   "source": [
    "1. The recall means \"how many of this class you find over the whole number of element of this class\". (measure of quantity)\n",
    "2. The precision will be \"how many are correctly classified among that class\". (measure of quality)\n",
    "3. The f1-score is the harmonic mean between precision & recall.\n",
    "4. The support is the number of occurence of the given class in your dataset."
   ]
  },
  {
   "cell_type": "code",
   "execution_count": 30,
   "metadata": {},
   "outputs": [
    {
     "name": "stdout",
     "output_type": "stream",
     "text": [
      "The base model predicts with an accuracy of 0.877307\n",
      "Best Threshold for base model=0.300000, G-Mean=0.798\n"
     ]
    }
   ],
   "source": [
    "# ROC curve\n",
    "y_scores_base = base_model.predict_proba(X_test)[:,1]\n",
    "fpr_base, tpr_base, thresholds_roc_base = roc_curve(y_test, y_scores_base)\n",
    "roc_auc_base = auc(fpr_base, tpr_base)\n",
    "base_auc = roc_auc_score(y_test, y_scores_base)\n",
    "print('The base model predicts with an accuracy of %f' % (base_auc))\n",
    "\n",
    "# get the best threshold\n",
    "gmeans_base = np.sqrt(tpr_base * (1-fpr_base))\n",
    "ix_roc_base = np.argmax(gmeans_base)\n",
    "print('Best Threshold for base model=%f, G-Mean=%.3f' % (thresholds_roc_base[ix_roc_base], \n",
    "                                                         gmeans_base[ix_roc_base]))"
   ]
  },
  {
   "cell_type": "code",
   "execution_count": 82,
   "metadata": {},
   "outputs": [
    {
     "data": {
      "image/png": "[encoded data removed]",
      "text/plain": [
       "<Figure size 720x576 with 1 Axes>"
      ]
     },
     "metadata": {
      "needs_background": "light"
     },
     "output_type": "display_data"
    }
   ],
   "source": [
    "# plot curve\n",
    "plt.figure(figsize = (10,8))\n",
    "plt.title('ROC curve base model Random Forest')\n",
    "plt.plot(fpr_base, tpr_base, 'b', label = 'AUC = %0.2f' % roc_auc_base)\n",
    "plt.plot([0, 1], [0, 1], 'r--')\n",
    "plt.xlim([0, 1])\n",
    "plt.ylim([0, 1])\n",
    "plt.scatter(fpr_base[ix_base], tpr_base[ix_base], marker='o', color='black', label='Best')\n",
    "plt.legend(loc = 'lower right')\n",
    "plt.ylabel('True Positive Rate')\n",
    "plt.xlabel('False Positive Rate')\n",
    "plt.show()"
   ]
  },
  {
   "cell_type": "markdown",
   "metadata": {},
   "source": [
    "ROC curves are appropriate when the observations are balanced between each class."
   ]
  },
  {
   "cell_type": "code",
   "execution_count": 31,
   "metadata": {},
   "outputs": [
    {
     "name": "stdout",
     "output_type": "stream",
     "text": [
      "0.7442122813894725\n",
      "Best Threshold for base model=0.400000, F-Score=0.665\n"
     ]
    }
   ],
   "source": [
    "#PRC curve\n",
    "precision_base, recall_base, thresholds_prc_base = precision_recall_curve(y_test, y_scores_base)\n",
    "auc_prc_base = auc(recall_base, precision_base)\n",
    "print(auc_prc_base)\n",
    "\n",
    "# convert to f score\n",
    "fscore_prc_base = (2 * precision_base * recall_base) / (precision_base + recall_base)\n",
    "# locate the index of the largest f score\n",
    "ix_prc_base = np.argmax(fscore_prc_base)\n",
    "print('Best Threshold for base model=%f, F-Score=%.3f' % (thresholds_prc_base[ix_prc_base], \n",
    "                                                          fscore_prc_base[ix_prc_base]))"
   ]
  },
  {
   "cell_type": "code",
   "execution_count": 99,
   "metadata": {},
   "outputs": [
    {
     "data": {
      "image/png": "[encoded data removed]",
      "text/plain": [
       "<Figure size 720x576 with 1 Axes>"
      ]
     },
     "metadata": {
      "needs_background": "light"
     },
     "output_type": "display_data"
    }
   ],
   "source": [
    "#plot curve\n",
    "plt.figure(figsize = (10,8))\n",
    "plt.plot([0, 1], [0.5, 0.5],'o--')\n",
    "plt.plot(recall_base, precision_base, label = 'Random Forest')\n",
    "plt.scatter(recall_base[ix_base], precision_base[ix_base], marker='o', color='black', label='Best')\n",
    "plt.xlabel('recall')\n",
    "plt.ylabel('precision')\n",
    "plt.title('PRC curve')\n",
    "plt.legend()\n",
    "plt.show()"
   ]
  },
  {
   "cell_type": "markdown",
   "metadata": {},
   "source": [
    "Precision-recall curves are appropriate for imbalanced datasets."
   ]
  },
  {
   "cell_type": "markdown",
   "metadata": {},
   "source": [
    "### Random search model"
   ]
  },
  {
   "cell_type": "code",
   "execution_count": 12,
   "metadata": {},
   "outputs": [
    {
     "name": "stdout",
     "output_type": "stream",
     "text": [
      "{'bootstrap': [True, False],\n",
      " 'max_depth': [10, 20, 30, 40, 50, 60, 70, 80, 90, 100, 110, None],\n",
      " 'max_features': ['auto', 'sqrt'],\n",
      " 'min_samples_leaf': [1, 2, 4],\n",
      " 'min_samples_split': [2, 5, 10],\n",
      " 'n_estimators': [200, 400, 600, 800, 1000, 1200, 1400, 1600, 1800, 2000]}\n"
     ]
    }
   ],
   "source": [
    "# Number of trees in random forest\n",
    "n_estimators = [int(x) for x in np.linspace(start = 200, stop = 2000, num = 10)]\n",
    "# Number of features to consider at every split\n",
    "max_features = ['auto', 'sqrt']\n",
    "# Maximum number of levels in tree\n",
    "max_depth = [int(x) for x in np.linspace(10, 110, num = 11)]\n",
    "max_depth.append(None)\n",
    "# Minimum number of samples required to split a node\n",
    "min_samples_split = [2, 5, 10]\n",
    "# Minimum number of samples required at each leaf node\n",
    "min_samples_leaf = [1, 2, 4]\n",
    "# Method of selecting samples for training each tree\n",
    "bootstrap = [True, False]\n",
    "\n",
    "# Create the random grid\n",
    "random_grid = {'n_estimators': n_estimators,\n",
    "               'max_features': max_features,\n",
    "               'max_depth': max_depth,\n",
    "               'min_samples_split': min_samples_split,\n",
    "               'min_samples_leaf': min_samples_leaf,\n",
    "               'bootstrap': bootstrap}\n",
    "\n",
    "pprint(random_grid)"
   ]
  },
  {
   "cell_type": "code",
   "execution_count": 13,
   "metadata": {},
   "outputs": [
    {
     "name": "stdout",
     "output_type": "stream",
     "text": [
      "Fitting 2 folds for each of 60 candidates, totalling 120 fits\n"
     ]
    },
    {
     "name": "stderr",
     "output_type": "stream",
     "text": [
      "[Parallel(n_jobs=-1)]: Using backend LokyBackend with 4 concurrent workers.\n",
      "[Parallel(n_jobs=-1)]: Done  42 tasks      | elapsed: 10.5min\n",
      "[Parallel(n_jobs=-1)]: Done 120 out of 120 | elapsed: 28.7min finished\n"
     ]
    },
    {
     "data": {
      "text/plain": [
       "RandomizedSearchCV(cv=2, estimator=RandomForestClassifier(), n_iter=60,\n",
       "                   n_jobs=-1,\n",
       "                   param_distributions={'bootstrap': [True, False],\n",
       "                                        'max_depth': [10, 20, 30, 40, 50, 60,\n",
       "                                                      70, 80, 90, 100, 110,\n",
       "                                                      None],\n",
       "                                        'max_features': ['auto', 'sqrt'],\n",
       "                                        'min_samples_leaf': [1, 2, 4],\n",
       "                                        'min_samples_split': [2, 5, 10],\n",
       "                                        'n_estimators': [200, 400, 600, 800,\n",
       "                                                         1000, 1200, 1400, 1600,\n",
       "                                                         1800, 2000]},\n",
       "                   random_state=42, verbose=1)"
      ]
     },
     "execution_count": 13,
     "metadata": {},
     "output_type": "execute_result"
    }
   ],
   "source": [
    "rf_random = RandomizedSearchCV(RandomForestClassifier(), random_grid, n_iter = 60, cv = 2, verbose=1, \n",
    "                               random_state=42, n_jobs = -1)\n",
    "rf_random.fit(X_train,y_train)"
   ]
  },
  {
   "cell_type": "code",
   "execution_count": 15,
   "metadata": {},
   "outputs": [
    {
     "data": {
      "text/plain": [
       "{'n_estimators': 1000,\n",
       " 'min_samples_split': 2,\n",
       " 'min_samples_leaf': 1,\n",
       " 'max_features': 'sqrt',\n",
       " 'max_depth': 20,\n",
       " 'bootstrap': True}"
      ]
     },
     "execution_count": 15,
     "metadata": {},
     "output_type": "execute_result"
    }
   ],
   "source": [
    "rf_random.best_params_"
   ]
  },
  {
   "cell_type": "code",
   "execution_count": 32,
   "metadata": {},
   "outputs": [
    {
     "data": {
      "text/plain": [
       "RandomForestClassifier(max_depth=20, max_features='sqrt', n_estimators=1000)"
      ]
     },
     "execution_count": 32,
     "metadata": {},
     "output_type": "execute_result"
    }
   ],
   "source": [
    "random_model = RandomForestClassifier(n_estimators=1000,min_samples_split=2,\n",
    "                                             min_samples_leaf=1,max_features='sqrt',\n",
    "                                             max_depth=20,bootstrap=True)\n",
    "random_model.fit(X_train, y_train)"
   ]
  },
  {
   "cell_type": "code",
   "execution_count": 33,
   "metadata": {},
   "outputs": [
    {
     "name": "stdout",
     "output_type": "stream",
     "text": [
      "Evaluating the random model on the training set yields an accuracy of 94.42277571327662%\n",
      "Evaluating the random model on the testing set yields an accuracy of 86.25%\n"
     ]
    }
   ],
   "source": [
    "random_accuracy = random_model.score(X_train, y_train)\n",
    "print(\"Evaluating the random model on the training set yields an accuracy of {}%\".format(random_accuracy*100))\n",
    "random_accuracy = random_model.score(X_test, y_test)\n",
    "print(\"Evaluating the random model on the testing set yields an accuracy of {:.2f}%\".format(random_accuracy*100))"
   ]
  },
  {
   "cell_type": "code",
   "execution_count": 34,
   "metadata": {},
   "outputs": [
    {
     "name": "stdout",
     "output_type": "stream",
     "text": [
      "Improvement of 1.76%.\n"
     ]
    }
   ],
   "source": [
    "print('Improvement of {:0.2f}%.'.format( 100 * (random_accuracy - base_accuracy) / base_accuracy))"
   ]
  },
  {
   "cell_type": "code",
   "execution_count": 35,
   "metadata": {},
   "outputs": [
    {
     "name": "stdout",
     "output_type": "stream",
     "text": [
      "[0 0 0 ... 1 0 1]\n"
     ]
    }
   ],
   "source": [
    "# Make prediction\n",
    "y_pred_random = random_model.predict(X_test)\n",
    "print(y_pred_random)"
   ]
  },
  {
   "cell_type": "code",
   "execution_count": 36,
   "metadata": {},
   "outputs": [
    {
     "name": "stdout",
     "output_type": "stream",
     "text": [
      "MSE: -0.14 (+/- 0.00)\n"
     ]
    }
   ],
   "source": [
    "kf = KFold(n_splits=10)\n",
    "cv_scores_random = cross_val_score(random_model, X_train, y_train, cv=kf, \n",
    "                                   scoring='neg_mean_squared_error')\n",
    "print(\"MSE: %0.2f (+/- %0.2f)\" % (cv_scores_random.mean(), cv_scores_random.std()))"
   ]
  },
  {
   "cell_type": "code",
   "execution_count": 37,
   "metadata": {},
   "outputs": [
    {
     "data": {
      "text/html": [
       "<div>\n",
       "<style scoped>\n",
       "    .dataframe tbody tr th:only-of-type {\n",
       "        vertical-align: middle;\n",
       "    }\n",
       "\n",
       "    .dataframe tbody tr th {\n",
       "        vertical-align: top;\n",
       "    }\n",
       "\n",
       "    .dataframe thead th {\n",
       "        text-align: right;\n",
       "    }\n",
       "</style>\n",
       "<table border=\"1\" class=\"dataframe\">\n",
       "  <thead>\n",
       "    <tr style=\"text-align: right;\">\n",
       "      <th>Predicted</th>\n",
       "      <th>0</th>\n",
       "      <th>1</th>\n",
       "      <th>All</th>\n",
       "    </tr>\n",
       "    <tr>\n",
       "      <th>Actual</th>\n",
       "      <th></th>\n",
       "      <th></th>\n",
       "      <th></th>\n",
       "    </tr>\n",
       "  </thead>\n",
       "  <tbody>\n",
       "    <tr>\n",
       "      <th>0</th>\n",
       "      <td>11732</td>\n",
       "      <td>703</td>\n",
       "      <td>12435</td>\n",
       "    </tr>\n",
       "    <tr>\n",
       "      <th>1</th>\n",
       "      <td>1536</td>\n",
       "      <td>2310</td>\n",
       "      <td>3846</td>\n",
       "    </tr>\n",
       "    <tr>\n",
       "      <th>All</th>\n",
       "      <td>13268</td>\n",
       "      <td>3013</td>\n",
       "      <td>16281</td>\n",
       "    </tr>\n",
       "  </tbody>\n",
       "</table>\n",
       "</div>"
      ],
      "text/plain": [
       "Predicted      0     1    All\n",
       "Actual                       \n",
       "0          11732   703  12435\n",
       "1           1536  2310   3846\n",
       "All        13268  3013  16281"
      ]
     },
     "execution_count": 37,
     "metadata": {},
     "output_type": "execute_result"
    }
   ],
   "source": [
    "confusion_matrix(y_test,y_pred_random)\n",
    "pd.crosstab(y_test, y_pred_random, rownames = ['Actual'], colnames =['Predicted'], margins = True)"
   ]
  },
  {
   "cell_type": "code",
   "execution_count": 38,
   "metadata": {},
   "outputs": [
    {
     "name": "stdout",
     "output_type": "stream",
     "text": [
      "0.5951083171945872\n"
     ]
    }
   ],
   "source": [
    "matthews_corr_random = matthews_corrcoef(y_test,y_pred_random)\n",
    "print(matthews_corr_random)"
   ]
  },
  {
   "cell_type": "code",
   "execution_count": 39,
   "metadata": {},
   "outputs": [
    {
     "name": "stdout",
     "output_type": "stream",
     "text": [
      "              precision    recall  f1-score   support\n",
      "\n",
      "           0       0.88      0.94      0.91     12435\n",
      "           1       0.77      0.60      0.67      3846\n",
      "\n",
      "    accuracy                           0.86     16281\n",
      "   macro avg       0.83      0.77      0.79     16281\n",
      "weighted avg       0.86      0.86      0.86     16281\n",
      "\n"
     ]
    }
   ],
   "source": [
    "print(classification_report(y_test, y_pred_random))"
   ]
  },
  {
   "cell_type": "code",
   "execution_count": 52,
   "metadata": {},
   "outputs": [
    {
     "name": "stdout",
     "output_type": "stream",
     "text": [
      "0.9143376760402142\n",
      "Best Threshold for random model=0.269384, G-Mean=0.828\n"
     ]
    }
   ],
   "source": [
    "# ROC curves\n",
    "y_scores_random = random_model.predict_proba(X_test)[:,1]\n",
    "fpr_random, tpr_random, thresholds_roc_random = roc_curve(y_test, y_scores_random)\n",
    "roc_auc_random = auc(fpr_random, tpr_random)\n",
    "random_auc = roc_auc_score(y_test, y_scores_random)\n",
    "print(random_auc)\n",
    "\n",
    "# get the best threshold\n",
    "gmeans_roc_random = np.sqrt(tpr_random * (1-fpr_random))\n",
    "ix_roc_random = np.argmax(gmeans_roc_random)\n",
    "print('Best Threshold for random model=%f, G-Mean=%.3f' % (thresholds_roc_random[ix_roc_random], \n",
    "                                                         gmeans_roc_random[ix_roc_random]))"
   ]
  },
  {
   "cell_type": "code",
   "execution_count": 54,
   "metadata": {},
   "outputs": [
    {
     "data": {
      "image/png": "[encoded data removed]",
      "text/plain": [
       "<Figure size 720x576 with 1 Axes>"
      ]
     },
     "metadata": {
      "needs_background": "light"
     },
     "output_type": "display_data"
    }
   ],
   "source": [
    "plt.figure(figsize = (10,8))\n",
    "plt.title('ROC curve random model Random Forest')\n",
    "plt.plot(fpr_random, tpr_random, 'b', label = 'AUC = %0.2f' % roc_auc_random)\n",
    "plt.plot([0, 1], [0, 1], 'r--')\n",
    "plt.xlim([0, 1])\n",
    "plt.ylim([0, 1])\n",
    "plt.scatter(fpr_random[ix_roc_random], tpr_random[ix_roc_random], marker='o', color='black', label='Best')\n",
    "plt.legend(loc = 'lower right')\n",
    "plt.ylabel('True Positive Rate')\n",
    "plt.xlabel('False Positive Rate')\n",
    "plt.show()"
   ]
  },
  {
   "cell_type": "code",
   "execution_count": 43,
   "metadata": {},
   "outputs": [
    {
     "name": "stdout",
     "output_type": "stream",
     "text": [
      "0.8007215251314836\n",
      "Best Threshold for random model=0.331167, F-Score=0.704\n"
     ]
    }
   ],
   "source": [
    "precision_random, recall_random, thresholds_prc_random = precision_recall_curve(y_test, y_scores_random)\n",
    "auc_prc_random = auc(recall_random, precision_random)\n",
    "print(auc_prc_random)\n",
    "\n",
    "# convert to f score\n",
    "fscore_prc_random = (2 * precision_random * recall_random) / (precision_random + recall_random)\n",
    "# locate the index of the largest f score\n",
    "ix_prc_random = np.argmax(fscore_prc_random)\n",
    "print('Best Threshold for random model=%f, F-Score=%.3f' % (thresholds_prc_random[ix_prc_random], \n",
    "                                                          fscore_prc_random[ix_prc_random]))"
   ]
  },
  {
   "cell_type": "code",
   "execution_count": 56,
   "metadata": {},
   "outputs": [
    {
     "data": {
      "image/png": "[encoded data removed]",
      "text/plain": [
       "<Figure size 720x576 with 1 Axes>"
      ]
     },
     "metadata": {
      "needs_background": "light"
     },
     "output_type": "display_data"
    }
   ],
   "source": [
    "plt.figure(figsize = (10,8))\n",
    "plt.plot([0, 1], [0.5, 0.5],'o--')\n",
    "plt.plot(recall_random, precision_random, label = 'Random Forest')\n",
    "plt.scatter(recall_random[ix_prc_random], precision_random[ix_prc_random], marker='o', color='black', \n",
    "            label='Best')\n",
    "plt.xlabel('recall')\n",
    "plt.ylabel('precision')\n",
    "plt.title('PRC curve Random Forest')\n",
    "plt.legend()\n",
    "plt.show()"
   ]
  },
  {
   "cell_type": "markdown",
   "metadata": {},
   "source": [
    "### Grid search model"
   ]
  },
  {
   "cell_type": "code",
   "execution_count": 39,
   "metadata": {},
   "outputs": [
    {
     "name": "stdout",
     "output_type": "stream",
     "text": [
      "Fitting 3 folds for each of 144 candidates, totalling 432 fits\n"
     ]
    },
    {
     "name": "stderr",
     "output_type": "stream",
     "text": [
      "[Parallel(n_jobs=-1)]: Using backend LokyBackend with 4 concurrent workers.\n",
      "[Parallel(n_jobs=-1)]: Done  33 tasks      | elapsed:  7.7min\n",
      "[Parallel(n_jobs=-1)]: Done 154 tasks      | elapsed: 36.7min\n",
      "[Parallel(n_jobs=-1)]: Done 357 tasks      | elapsed: 84.0min\n",
      "[Parallel(n_jobs=-1)]: Done 432 out of 432 | elapsed: 101.4min finished\n"
     ]
    },
    {
     "data": {
      "text/plain": [
       "GridSearchCV(cv=3, estimator=RandomForestClassifier(), n_jobs=-1,\n",
       "             param_grid={'bootstrap': [True], 'max_depth': [30, 40, 50, 60],\n",
       "                         'max_features': ['sqrt'],\n",
       "                         'min_samples_leaf': [1, 2, 3],\n",
       "                         'min_samples_split': [2, 4, 6],\n",
       "                         'n_estimators': [700, 800, 900, 2000]},\n",
       "             verbose=2)"
      ]
     },
     "execution_count": 39,
     "metadata": {},
     "output_type": "execute_result"
    }
   ],
   "source": [
    "param_grid = {\n",
    "    'bootstrap': [True],\n",
    "    'max_depth': [30, 40, 50, 60],\n",
    "    'max_features': ['sqrt'],\n",
    "    'min_samples_leaf': [1, 2, 3],\n",
    "    'min_samples_split': [2, 4, 6],\n",
    "    'n_estimators': [700, 800, 900, 2000]\n",
    "}\n",
    "\n",
    "grid_search = GridSearchCV(RandomForestClassifier(), param_grid = param_grid, cv = 3, \n",
    "                           n_jobs = -1, verbose = 2)\n",
    "grid_search.fit(X_train, y_train)"
   ]
  },
  {
   "cell_type": "code",
   "execution_count": 40,
   "metadata": {},
   "outputs": [
    {
     "data": {
      "text/plain": [
       "{'bootstrap': True,\n",
       " 'max_depth': 40,\n",
       " 'max_features': 'sqrt',\n",
       " 'min_samples_leaf': 3,\n",
       " 'min_samples_split': 6,\n",
       " 'n_estimators': 700}"
      ]
     },
     "execution_count": 40,
     "metadata": {},
     "output_type": "execute_result"
    }
   ],
   "source": [
    "grid_search.best_params_"
   ]
  },
  {
   "cell_type": "code",
   "execution_count": 12,
   "metadata": {},
   "outputs": [
    {
     "data": {
      "text/plain": [
       "RandomForestClassifier(max_depth=40, max_features='sqrt', min_samples_leaf=3,\n",
       "                       min_samples_split=6, n_estimators=700)"
      ]
     },
     "execution_count": 12,
     "metadata": {},
     "output_type": "execute_result"
    }
   ],
   "source": [
    "grid_model = RandomForestClassifier(n_estimators=700,min_samples_split=6,\n",
    "                                             min_samples_leaf=3,max_features='sqrt',\n",
    "                                             max_depth=40,bootstrap=True)\n",
    "grid_model.fit(X_train,y_train)"
   ]
  },
  {
   "cell_type": "code",
   "execution_count": 44,
   "metadata": {},
   "outputs": [
    {
     "name": "stdout",
     "output_type": "stream",
     "text": [
      "Evaluating the grid model on the training set yields an accuracy of 91.60652314118117%\n",
      "Evaluating the grid model on the testing set yields an accuracy of 86.25%\n"
     ]
    }
   ],
   "source": [
    "grid_accuracy = grid_model.score(X_train, y_train)\n",
    "print(\"Evaluating the grid model on the training set yields an accuracy of {}%\".format(grid_accuracy*100))\n",
    "grid_accuracy = grid_model.score(X_test, y_test)\n",
    "print(\"Evaluating the grid model on the testing set yields an accuracy of {:.2f}%\".format(grid_accuracy*100))"
   ]
  },
  {
   "cell_type": "code",
   "execution_count": 45,
   "metadata": {},
   "outputs": [
    {
     "name": "stdout",
     "output_type": "stream",
     "text": [
      "Improvement of 1.77%.\n"
     ]
    }
   ],
   "source": [
    "print('Improvement of {:0.2f}%.'.format( 100 * (grid_accuracy - base_accuracy) / base_accuracy))"
   ]
  },
  {
   "cell_type": "code",
   "execution_count": 46,
   "metadata": {},
   "outputs": [
    {
     "name": "stdout",
     "output_type": "stream",
     "text": [
      "[0 0 0 ... 1 0 1]\n"
     ]
    }
   ],
   "source": [
    "# Make prediction\n",
    "y_pred_grid = grid_model.predict(X_test)\n",
    "print(y_pred_grid)"
   ]
  },
  {
   "cell_type": "code",
   "execution_count": 24,
   "metadata": {},
   "outputs": [
    {
     "name": "stdout",
     "output_type": "stream",
     "text": [
      "MSE: -0.14 (+/- 0.01)\n"
     ]
    }
   ],
   "source": [
    "kf = KFold(n_splits=10)\n",
    "cv_scores_grid = cross_val_score(grid_model, X_train, y_train, cv=kf, scoring='neg_mean_squared_error')\n",
    "print(\"MSE: %0.2f (+/- %0.2f)\" % (cv_scores_grid.mean(), cv_scores_grid.std()))"
   ]
  },
  {
   "cell_type": "code",
   "execution_count": 48,
   "metadata": {},
   "outputs": [
    {
     "data": {
      "text/html": [
       "<div>\n",
       "<style scoped>\n",
       "    .dataframe tbody tr th:only-of-type {\n",
       "        vertical-align: middle;\n",
       "    }\n",
       "\n",
       "    .dataframe tbody tr th {\n",
       "        vertical-align: top;\n",
       "    }\n",
       "\n",
       "    .dataframe thead th {\n",
       "        text-align: right;\n",
       "    }\n",
       "</style>\n",
       "<table border=\"1\" class=\"dataframe\">\n",
       "  <thead>\n",
       "    <tr style=\"text-align: right;\">\n",
       "      <th>Predicted</th>\n",
       "      <th>0</th>\n",
       "      <th>1</th>\n",
       "      <th>All</th>\n",
       "    </tr>\n",
       "    <tr>\n",
       "      <th>Actual</th>\n",
       "      <th></th>\n",
       "      <th></th>\n",
       "      <th></th>\n",
       "    </tr>\n",
       "  </thead>\n",
       "  <tbody>\n",
       "    <tr>\n",
       "      <th>0</th>\n",
       "      <td>11709</td>\n",
       "      <td>726</td>\n",
       "      <td>12435</td>\n",
       "    </tr>\n",
       "    <tr>\n",
       "      <th>1</th>\n",
       "      <td>1512</td>\n",
       "      <td>2334</td>\n",
       "      <td>3846</td>\n",
       "    </tr>\n",
       "    <tr>\n",
       "      <th>All</th>\n",
       "      <td>13221</td>\n",
       "      <td>3060</td>\n",
       "      <td>16281</td>\n",
       "    </tr>\n",
       "  </tbody>\n",
       "</table>\n",
       "</div>"
      ],
      "text/plain": [
       "Predicted      0     1    All\n",
       "Actual                       \n",
       "0          11709   726  12435\n",
       "1           1512  2334   3846\n",
       "All        13221  3060  16281"
      ]
     },
     "execution_count": 48,
     "metadata": {},
     "output_type": "execute_result"
    }
   ],
   "source": [
    "confusion_matrix(y_test,y_pred_grid)\n",
    "pd.crosstab(y_test, y_pred_grid, rownames = ['Actual'], colnames =['Predicted'], margins = True)"
   ]
  },
  {
   "cell_type": "code",
   "execution_count": 47,
   "metadata": {},
   "outputs": [
    {
     "name": "stdout",
     "output_type": "stream",
     "text": [
      "0.5963428316044085\n"
     ]
    }
   ],
   "source": [
    "matthews_corr_grid = matthews_corrcoef(y_test,y_pred_grid)\n",
    "print(matthews_corr_grid)"
   ]
  },
  {
   "cell_type": "code",
   "execution_count": 36,
   "metadata": {},
   "outputs": [
    {
     "name": "stdout",
     "output_type": "stream",
     "text": [
      "              precision    recall  f1-score   support\n",
      "\n",
      "           0       0.88      0.94      0.91     12435\n",
      "           1       0.76      0.60      0.67      3846\n",
      "\n",
      "    accuracy                           0.86     16281\n",
      "   macro avg       0.82      0.77      0.79     16281\n",
      "weighted avg       0.86      0.86      0.86     16281\n",
      "\n"
     ]
    }
   ],
   "source": [
    "print(classification_report(y_test, y_pred_grid))"
   ]
  },
  {
   "cell_type": "code",
   "execution_count": 49,
   "metadata": {},
   "outputs": [
    {
     "name": "stdout",
     "output_type": "stream",
     "text": [
      "0.9143142573310492\n",
      "Best Threshold for grid model=0.263028, G-Mean=0.828\n"
     ]
    }
   ],
   "source": [
    "# ROC curves\n",
    "y_scores_grid = grid_model.predict_proba(X_test)[:,1]\n",
    "fpr_grid, tpr_grid, thresholds_roc_grid = roc_curve(y_test, y_scores_grid)\n",
    "roc_auc_grid = auc(fpr_grid, tpr_grid)\n",
    "grid_auc = roc_auc_score(y_test, y_scores_grid)\n",
    "print(grid_auc)\n",
    "\n",
    "# get the best threshold\n",
    "gmeans_roc_grid = np.sqrt(tpr_grid * (1-fpr_grid))\n",
    "ix_roc_grid = np.argmax(gmeans_roc_grid)\n",
    "print('Best Threshold for grid model=%f, G-Mean=%.3f' % (thresholds_roc_grid[ix_roc_grid], \n",
    "                                                         gmeans_roc_grid[ix_roc_grid]))"
   ]
  },
  {
   "cell_type": "code",
   "execution_count": 58,
   "metadata": {},
   "outputs": [
    {
     "data": {
      "image/png": "[encoded data removed]",
      "text/plain": [
       "<Figure size 720x576 with 1 Axes>"
      ]
     },
     "metadata": {
      "needs_background": "light"
     },
     "output_type": "display_data"
    }
   ],
   "source": [
    "plt.figure(figsize = (10,8))\n",
    "plt.title('ROC curve grid model Random Forest')\n",
    "plt.plot(fpr_grid, tpr_grid, 'b', label = 'AUC = %0.2f' % roc_auc_grid)\n",
    "plt.plot([0, 1], [0, 1], 'r--')\n",
    "plt.xlim([0, 1])\n",
    "plt.ylim([0, 1])\n",
    "plt.scatter(fpr_grid[ix_roc_grid], tpr_grid[ix_roc_grid], marker='o', color='black', label='Best')\n",
    "plt.legend(loc = 'lower right')\n",
    "plt.ylabel('True Positive Rate')\n",
    "plt.xlabel('False Positive Rate')\n",
    "plt.show()"
   ]
  },
  {
   "cell_type": "code",
   "execution_count": 50,
   "metadata": {},
   "outputs": [
    {
     "name": "stdout",
     "output_type": "stream",
     "text": [
      "0.8004875329294372\n",
      "Best Threshold for random model=0.365903, F-Score=0.705\n"
     ]
    }
   ],
   "source": [
    "precision_grid, recall_grid, thresholds_prc_grid = precision_recall_curve(y_test, y_scores_grid)\n",
    "auc_prc_grid = auc(recall_grid, precision_grid)\n",
    "print(auc_prc_grid)\n",
    "\n",
    "# convert to f score\n",
    "fscore_prc_grid = (2 * precision_grid * recall_grid) / (precision_grid + recall_grid)\n",
    "# locate the index of the largest f score\n",
    "ix_prc_grid = np.argmax(fscore_prc_grid)\n",
    "print('Best Threshold for random model=%f, F-Score=%.3f' % (thresholds_prc_grid[ix_prc_grid], \n",
    "                                                          fscore_prc_grid[ix_prc_grid]))"
   ]
  },
  {
   "cell_type": "code",
   "execution_count": 60,
   "metadata": {},
   "outputs": [
    {
     "data": {
      "image/png": "[encoded data removed]",
      "text/plain": [
       "<Figure size 720x576 with 1 Axes>"
      ]
     },
     "metadata": {
      "needs_background": "light"
     },
     "output_type": "display_data"
    }
   ],
   "source": [
    "plt.figure(figsize = (10,8))\n",
    "plt.plot([0, 1], [0.5, 0.5],'o--')\n",
    "plt.plot(recall_grid, precision_grid, label = 'Random Forest')\n",
    "plt.scatter(recall_grid[ix_prc_grid], precision_grid[ix_prc_grid], marker='o', color='black', \n",
    "            label='Best')\n",
    "plt.xlabel('recall')\n",
    "plt.ylabel('precision')\n",
    "plt.title('PRC curve grid model')\n",
    "plt.legend()\n",
    "plt.show()"
   ]
  },
  {
   "cell_type": "markdown",
   "metadata": {},
   "source": [
    "### Compare base model vs random search vs grid search"
   ]
  },
  {
   "cell_type": "code",
   "execution_count": 68,
   "metadata": {},
   "outputs": [
    {
     "data": {
      "text/html": [
       "<div>\n",
       "<style scoped>\n",
       "    .dataframe tbody tr th:only-of-type {\n",
       "        vertical-align: middle;\n",
       "    }\n",
       "\n",
       "    .dataframe tbody tr th {\n",
       "        vertical-align: top;\n",
       "    }\n",
       "\n",
       "    .dataframe thead th {\n",
       "        text-align: right;\n",
       "    }\n",
       "</style>\n",
       "<table border=\"1\" class=\"dataframe\">\n",
       "  <thead>\n",
       "    <tr style=\"text-align: right;\">\n",
       "      <th></th>\n",
       "      <th>Model</th>\n",
       "      <th>Accuracy score (%)</th>\n",
       "      <th>Matthews corr</th>\n",
       "      <th>ROC score (%)</th>\n",
       "      <th>ROC treshold</th>\n",
       "      <th>PRC score (%)</th>\n",
       "      <th>PRC treshold</th>\n",
       "    </tr>\n",
       "  </thead>\n",
       "  <tbody>\n",
       "    <tr>\n",
       "      <th>1</th>\n",
       "      <td>Random Search</td>\n",
       "      <td>86.247773</td>\n",
       "      <td>0.595108</td>\n",
       "      <td>91.433768</td>\n",
       "      <td>0.269384</td>\n",
       "      <td>80.072153</td>\n",
       "      <td>0.331167</td>\n",
       "    </tr>\n",
       "    <tr>\n",
       "      <th>2</th>\n",
       "      <td>Grid Search</td>\n",
       "      <td>86.253916</td>\n",
       "      <td>0.596343</td>\n",
       "      <td>91.431426</td>\n",
       "      <td>0.263028</td>\n",
       "      <td>80.048753</td>\n",
       "      <td>0.365903</td>\n",
       "    </tr>\n",
       "    <tr>\n",
       "      <th>0</th>\n",
       "      <td>Base Model</td>\n",
       "      <td>84.755236</td>\n",
       "      <td>0.550285</td>\n",
       "      <td>87.730726</td>\n",
       "      <td>0.300000</td>\n",
       "      <td>74.421228</td>\n",
       "      <td>0.400000</td>\n",
       "    </tr>\n",
       "  </tbody>\n",
       "</table>\n",
       "</div>"
      ],
      "text/plain": [
       "           Model  Accuracy score (%)  Matthews corr  ROC score (%)  \\\n",
       "1  Random Search           86.247773       0.595108      91.433768   \n",
       "2    Grid Search           86.253916       0.596343      91.431426   \n",
       "0     Base Model           84.755236       0.550285      87.730726   \n",
       "\n",
       "   ROC treshold  PRC score (%)  PRC treshold  \n",
       "1      0.269384      80.072153      0.331167  \n",
       "2      0.263028      80.048753      0.365903  \n",
       "0      0.300000      74.421228      0.400000  "
      ]
     },
     "execution_count": 68,
     "metadata": {},
     "output_type": "execute_result"
    }
   ],
   "source": [
    "models = pd.DataFrame({\n",
    "    'Model': ['Base Model', 'Random Search', 'Grid Search'],\n",
    "    'Accuracy score (%)': [base_accuracy*100, random_accuracy*100, grid_accuracy*100],\n",
    "    'Matthews corr':[matthews_corr_base, matthews_corr_random, matthews_corr_grid],\n",
    "    'ROC score (%)':[base_auc*100,random_auc*100,grid_auc*100],\n",
    "    'ROC treshold':[thresholds_roc_base[ix_roc_base],thresholds_roc_random[ix_roc_random],\n",
    "                    thresholds_roc_grid[ix_roc_grid]],\n",
    "    'PRC score (%)':[auc_prc_base*100,auc_prc_random*100,auc_prc_grid*100],\n",
    "    'PRC treshold':[thresholds_prc_base[ix_prc_base], thresholds_prc_random[ix_prc_random],\n",
    "                   thresholds_prc_grid[ix_prc_grid]]\n",
    "})\n",
    "\n",
    "models.sort_values(by='PRC score (%)', ascending=False)"
   ]
  },
  {
   "cell_type": "markdown",
   "metadata": {},
   "source": [
    "### Validation curves"
   ]
  },
  {
   "cell_type": "code",
   "execution_count": 7,
   "metadata": {},
   "outputs": [
    {
     "data": {
      "image/png": "[encoded data removed]",
      "text/plain": [
       "<Figure size 432x288 with 1 Axes>"
      ]
     },
     "metadata": {
      "needs_background": "light"
     },
     "output_type": "display_data"
    }
   ],
   "source": [
    "param_range = np.arange(0, 27)\n",
    "train_score_param1, val_score_param1 = validation_curve(RandomForestClassifier(), X_train, y_train,\n",
    "                                                        param_name='min_samples_leaf', \n",
    "                                                        param_range=param_range,\n",
    "                                                        scoring='accuracy',cv=3, n_jobs=-1)\n",
    "plt.plot(param_range, np.median(train_score_param1, 1), color='blue', label='training score')\n",
    "plt.plot(param_range, np.median(val_score_param1, 1), color='red', label='validation score')\n",
    "plt.legend(loc='best')\n",
    "plt.ylim(0, 1)\n",
    "plt.xlabel('min_samples_leaf')\n",
    "plt.ylabel('score')\n",
    "plt.show()\n",
    "\n",
    "# if training score is low and validation score is low => model is underfitting\n",
    "# if trainig score is high and validation score is low => model is overfitting\n",
    "# when both are high and close to eachother => good model"
   ]
  },
  {
   "cell_type": "code",
   "execution_count": 9,
   "metadata": {},
   "outputs": [
    {
     "data": {
      "image/png": "[encoded data removed]",
      "text/plain": [
       "<Figure size 432x288 with 1 Axes>"
      ]
     },
     "metadata": {
      "needs_background": "light"
     },
     "output_type": "display_data"
    }
   ],
   "source": [
    "param_range = np.arange(0, 180)\n",
    "train_score_param2, val_score_param2 = validation_curve(RandomForestClassifier(), X_train, y_train,\n",
    "                                                        param_name='max_depth', \n",
    "                                                        param_range=param_range,\n",
    "                                                        scoring='accuracy',cv=3, n_jobs=-1)\n",
    "plt.plot(param_range, np.median(train_score_param2, 1), color='blue', label='training score')\n",
    "plt.plot(param_range, np.median(val_score_param2, 1), color='red', label='validation score')\n",
    "plt.legend(loc='best')\n",
    "plt.ylim(0, 1)\n",
    "plt.xlabel('max_depth')\n",
    "plt.ylabel('score')\n",
    "plt.show()"
   ]
  },
  {
   "cell_type": "code",
   "execution_count": 14,
   "metadata": {},
   "outputs": [
    {
     "data": {
      "image/png": "[encoded data removed]",
      "text/plain": [
       "<Figure size 432x288 with 1 Axes>"
      ]
     },
     "metadata": {
      "needs_background": "light"
     },
     "output_type": "display_data"
    }
   ],
   "source": [
    "param_range = np.arange(start=10,stop= 2000,step=100)\n",
    "train_score_param3, val_score_param3 = validation_curve(RandomForestClassifier(), X_train, y_train,\n",
    "                                                        param_name='n_estimators', \n",
    "                                                        param_range=param_range,\n",
    "                                                        scoring='accuracy',cv=3, n_jobs=-1)\n",
    "plt.plot(param_range, np.median(train_score_param3, 1), color='blue', label='training score')\n",
    "plt.plot(param_range, np.median(val_score_param3, 1), color='red', label='validation score')\n",
    "plt.legend(loc='best')\n",
    "plt.ylim(0, 1)\n",
    "plt.xlabel('n_estimators')\n",
    "plt.ylabel('score')\n",
    "plt.show()"
   ]
  },
  {
   "cell_type": "markdown",
   "metadata": {},
   "source": [
    "### Learning curve"
   ]
  },
  {
   "cell_type": "code",
   "execution_count": 13,
   "metadata": {},
   "outputs": [],
   "source": [
    "train_sizes = [1000, 2500, 5000, 10000, 15000, 20000] # absolute numbers that must be within (0,21707)\n",
    "\n",
    "train_sizes, train_scores, validation_scores = learning_curve(grid_model, X_train, y_train, \n",
    "                                                              train_sizes = train_sizes,\n",
    "                                                              cv = 3, \n",
    "                                                              scoring = 'accuracy')"
   ]
  },
  {
   "cell_type": "code",
   "execution_count": 16,
   "metadata": {},
   "outputs": [
    {
     "name": "stdout",
     "output_type": "stream",
     "text": [
      "[0.93666667 0.9312     0.925      0.92253333 0.91928889 0.91823333]\n",
      "[0.84509081 0.85451931 0.85501071 0.85829689 0.8612452  0.86357926]\n"
     ]
    }
   ],
   "source": [
    "train_scores_mean = train_scores.mean(axis = 1)\n",
    "print(train_scores_mean)\n",
    "validation_scores_mean = validation_scores.mean(axis = 1)\n",
    "print(validation_scores_mean)"
   ]
  },
  {
   "cell_type": "code",
   "execution_count": 20,
   "metadata": {},
   "outputs": [
    {
     "data": {
      "image/png": "[encoded data removed]",
      "text/plain": [
       "<Figure size 432x288 with 1 Axes>"
      ]
     },
     "metadata": {
      "needs_background": "light"
     },
     "output_type": "display_data"
    }
   ],
   "source": [
    "plt.plot(train_sizes, train_scores_mean, label = 'Training Accuracy')\n",
    "plt.plot(train_sizes, validation_scores_mean, label = 'Validation Accuracy')\n",
    "plt.ylabel('Score')\n",
    "plt.xlabel('Training examples')\n",
    "plt.title('Learning curve for our Grid Search model')\n",
    "plt.ylim(0.8,1)\n",
    "plt.legend(loc='best')\n",
    "plt.show()\n",
    "# Training and validating scores could converge closer\n",
    "# This classifier would benefit from adding more training data"
   ]
  }
 ],
 "metadata": {
  "kernelspec": {
   "display_name": "Python 3",
   "language": "python",
   "name": "python3"
  },
  "language_info": {
   "codemirror_mode": {
    "name": "ipython",
    "version": 3
   },
   "file_extension": ".py",
   "mimetype": "text/x-python",
   "name": "python",
   "nbconvert_exporter": "python",
   "pygments_lexer": "ipython3",
   "version": "3.8.3"
  }
 },
 "nbformat": 4,
 "nbformat_minor": 4
}
